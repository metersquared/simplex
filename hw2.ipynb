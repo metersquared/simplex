{
 "cells": [
  {
   "cell_type": "code",
   "execution_count": 2,
   "metadata": {},
   "outputs": [],
   "source": [
    "import main\n",
    "\n",
    "c,b,A=main.data_generator(17)"
   ]
  }
 ],
 "metadata": {
  "kernelspec": {
   "display_name": "admvenv",
   "language": "python",
   "name": "python3"
  },
  "language_info": {
   "codemirror_mode": {
    "name": "ipython",
    "version": 3
   },
   "file_extension": ".py",
   "mimetype": "text/x-python",
   "name": "python",
   "nbconvert_exporter": "python",
   "pygments_lexer": "ipython3",
   "version": "3.8.10"
  },
  "orig_nbformat": 4,
  "vscode": {
   "interpreter": {
    "hash": "ed913b978d2ef6096d62f707ccacb37222500c68c445115c2cf11701c6b4db15"
   }
  }
 },
 "nbformat": 4,
 "nbformat_minor": 2
}
